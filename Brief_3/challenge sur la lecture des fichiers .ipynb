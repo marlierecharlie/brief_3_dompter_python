{
 "cells": [
  {
   "cell_type": "code",
   "execution_count": 36,
   "id": "ab320364",
   "metadata": {},
   "outputs": [
    {
     "data": {
      "text/plain": [
       "       ANAISH DEPNAISH INDNATH ETAMATH ANAISF  ... DEPMAR DEPDOM TUDOM TUCOM  \\\n",
       "0        1982       75       1       1   1984  ...     29     99     9         \n",
       "1        1956       69       2       4   1969  ...     75     99     9         \n",
       "2        1982       99       2       1   1992  ...     34     99     9         \n",
       "3        1985       99       2       1   1987  ...     13     99     9         \n",
       "4        1968       99       2       1   1963  ...     26     99     9         \n",
       "...       ...      ...     ...     ...    ...  ...    ...    ...   ...   ...   \n",
       "246118   1948       99       1       4   1955  ...    978    978     9     P   \n",
       "246119   1961       99       1       4   1976  ...    978    978     9     P   \n",
       "246120   1963       60       1       4   1970  ...    978    978     9     P   \n",
       "246121   1973       99       2       1   1985  ...    978    978     9     P   \n",
       "246122   1980       99       2       1   1982  ...    978    978     9     P   \n",
       "\n",
       "       NBENFCOM  \n",
       "0             N  \n",
       "1             N  \n",
       "2             N  \n",
       "3             N  \n",
       "4             N  \n",
       "...         ...  \n",
       "246118        N  \n",
       "246119        O  \n",
       "246120        N  \n",
       "246121        N  \n",
       "246122        N  \n",
       "\n",
       "[246123 rows x 16 columns]"
      ]
     },
     "execution_count": 36,
     "metadata": {},
     "output_type": "execute_result"
    }
   ],
   "source": [
    "# pandas package is required\n",
    "import pandas as pd\n",
    "from dbfread import DBF\n",
    "\n",
    " \n",
    "# converting csv file to data frame\n",
    "data_frame_prima = pd.read_csv(\"prima.txt\", sep='\\t', header = None)\n",
    "# _________________________utile si on doit insérer les colonnes : _____________________________\n",
    "#                          names=['pregnant', 'glucose', 'diastolic',\n",
    "#                                 'triceps', 'insulin', 'bmi',\n",
    "#                                 'diabetes', 'age', 'test',])\n",
    "data_frame_mar2012 = pd.read_csv(\"mar2012.csv\")\n",
    "\n",
    "# fichier.dbf\n",
    "dbf = DBF('mar2012.dbf')\n",
    "frame= pd.DataFrame(iter(dbf))\n",
    "frame\n",
    "\n",
    "# printing data frame\n",
    "print(\"Data frame pima\")\n",
    "print(data_frame_prima)\n",
    "\n",
    "print(\"Data frame mar2012\")\n",
    "print(data_frame_mar2012)\n",
    "\n",
    "\n",
    " "
   ]
  },
  {
   "cell_type": "code",
   "execution_count": null,
   "id": "46e19b81",
   "metadata": {},
   "outputs": [],
   "source": []
  },
  {
   "cell_type": "code",
   "execution_count": null,
   "id": "318fd5b4",
   "metadata": {},
   "outputs": [],
   "source": []
  }
 ],
 "metadata": {
  "kernelspec": {
   "display_name": "Python 3 (ipykernel)",
   "language": "python",
   "name": "python3"
  },
  "language_info": {
   "codemirror_mode": {
    "name": "ipython",
    "version": 3
   },
   "file_extension": ".py",
   "mimetype": "text/x-python",
   "name": "python",
   "nbconvert_exporter": "python",
   "pygments_lexer": "ipython3",
   "version": "3.9.12"
  }
 },
 "nbformat": 4,
 "nbformat_minor": 5
}
