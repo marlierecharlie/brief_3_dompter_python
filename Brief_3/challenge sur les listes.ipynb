{
 "cells": [
  {
   "cell_type": "code",
   "execution_count": 2,
   "id": "7f0b2494",
   "metadata": {},
   "outputs": [
    {
     "name": "stdout",
     "output_type": "stream",
     "text": [
      "[331734, 340717, 335941, 168208, 326756, 596229, 550092, 495614, 426905, 397938, 596934, 564385, 422717, 234690, 138033, 638433, 348853, 617789, 202008, 599275, 519945, 510700, 189850, 231060, 266234, 441543, 161337, 318395, 432828, 450347, 305572, 379741, 204306, 291442, 336202, 595086, 256318, 261408, 262585, 363437, 156947, 401240, 387746, 229318, 626811, 650240, 407271, 474161, 544358, 259501, 424313, 394762, 339946, 610092, 333349, 363821, 601449, 221395]\n"
     ]
    }
   ],
   "source": [
    "import random\n",
    "random.seed(58)\n",
    "\n",
    "prix_des_maisons=[] \n",
    "\n",
    "for i in range(58):\n",
    "    y=random.randint(125000,700000)\n",
    "    prix_des_maisons.append(y)\n",
    "print(prix_des_maisons)\n",
    "# len(prix_des_maisons)\n",
    "\n",
    "    \n",
    "\n"
   ]
  },
  {
   "cell_type": "code",
   "execution_count": 6,
   "id": "709d18f7",
   "metadata": {},
   "outputs": [
    {
     "name": "stdout",
     "output_type": "stream",
     "text": [
      "331734\n",
      "340717\n",
      "335941\n",
      "326756\n",
      "596229\n",
      "550092\n",
      "495614\n",
      "426905\n",
      "397938\n",
      "596934\n",
      "564385\n",
      "422717\n",
      "638433\n",
      "348853\n",
      "617789\n",
      "599275\n",
      "519945\n",
      "510700\n",
      "441543\n",
      "318395\n",
      "432828\n",
      "450347\n",
      "305572\n",
      "379741\n",
      "336202\n",
      "595086\n",
      "363437\n",
      "401240\n",
      "387746\n",
      "626811\n",
      "650240\n",
      "407271\n",
      "474161\n",
      "544358\n",
      "424313\n",
      "394762\n",
      "339946\n",
      "610092\n",
      "333349\n",
      "363821\n",
      "601449\n"
     ]
    }
   ],
   "source": [
    "v=[]\n",
    "for i in range(0,len(prix_des_maisons)):\n",
    "# ici parcours la liste via les positions \n",
    "    if prix_des_maisons[i]>= 300000:\n",
    "        v.append(prix_des_maisons[i])\n",
    "len(v)\n",
    "    "
   ]
  },
  {
   "cell_type": "code",
   "execution_count": 7,
   "id": "7a57bbbc",
   "metadata": {},
   "outputs": [
    {
     "data": {
      "text/plain": [
       "[331734,\n",
       " 340717,\n",
       " 335941,\n",
       " 326756,\n",
       " 596229,\n",
       " 550092,\n",
       " 495614,\n",
       " 426905,\n",
       " 397938,\n",
       " 596934,\n",
       " 564385,\n",
       " 422717,\n",
       " 638433,\n",
       " 348853,\n",
       " 617789,\n",
       " 599275,\n",
       " 519945,\n",
       " 510700,\n",
       " 441543,\n",
       " 318395,\n",
       " 432828,\n",
       " 450347,\n",
       " 305572,\n",
       " 379741,\n",
       " 336202,\n",
       " 595086,\n",
       " 363437,\n",
       " 401240,\n",
       " 387746,\n",
       " 626811,\n",
       " 650240,\n",
       " 407271,\n",
       " 474161,\n",
       " 544358,\n",
       " 424313,\n",
       " 394762,\n",
       " 339946,\n",
       " 610092,\n",
       " 333349,\n",
       " 363821,\n",
       " 601449]"
      ]
     },
     "execution_count": 7,
     "metadata": {},
     "output_type": "execute_result"
    }
   ],
   "source": [
    "v"
   ]
  },
  {
   "cell_type": "code",
   "execution_count": 8,
   "id": "9bcbcbf8",
   "metadata": {},
   "outputs": [
    {
     "data": {
      "text/plain": [
       "[331734,\n",
       " 340717,\n",
       " 335941,\n",
       " 326756,\n",
       " 596229,\n",
       " 550092,\n",
       " 495614,\n",
       " 426905,\n",
       " 397938,\n",
       " 596934,\n",
       " 564385,\n",
       " 422717,\n",
       " 638433,\n",
       " 348853,\n",
       " 617789,\n",
       " 599275,\n",
       " 519945,\n",
       " 510700,\n",
       " 441543,\n",
       " 318395,\n",
       " 432828,\n",
       " 450347,\n",
       " 305572,\n",
       " 379741,\n",
       " 336202,\n",
       " 595086,\n",
       " 363437,\n",
       " 401240,\n",
       " 387746,\n",
       " 626811,\n",
       " 650240,\n",
       " 407271,\n",
       " 474161,\n",
       " 544358,\n",
       " 424313,\n",
       " 394762,\n",
       " 339946,\n",
       " 610092,\n",
       " 333349,\n",
       " 363821,\n",
       " 601449]"
      ]
     },
     "execution_count": 8,
     "metadata": {},
     "output_type": "execute_result"
    }
   ],
   "source": []
  },
  {
   "cell_type": "code",
   "execution_count": 11,
   "id": "30b3ce22",
   "metadata": {},
   "outputs": [
    {
     "name": "stdout",
     "output_type": "stream",
     "text": [
      "331734\n",
      "340717\n",
      "335941\n",
      "326756\n",
      "596229\n",
      "550092\n",
      "495614\n",
      "426905\n",
      "397938\n",
      "596934\n",
      "564385\n",
      "422717\n",
      "638433\n",
      "348853\n",
      "617789\n",
      "599275\n",
      "519945\n",
      "510700\n",
      "441543\n",
      "318395\n",
      "432828\n",
      "450347\n",
      "305572\n",
      "379741\n",
      "336202\n",
      "595086\n",
      "363437\n",
      "401240\n",
      "387746\n",
      "626811\n",
      "650240\n",
      "407271\n",
      "474161\n",
      "544358\n",
      "424313\n",
      "394762\n",
      "339946\n",
      "610092\n",
      "333349\n",
      "363821\n",
      "601449\n"
     ]
    }
   ],
   "source": [
    "reponse = []\n",
    "for v in prix_des_maisons:\n",
    "    if v >= 300000:\n",
    "        reponse.append(v)\n",
    "len(reponse)"
   ]
  },
  {
   "cell_type": "code",
   "execution_count": 12,
   "id": "fcd1761e",
   "metadata": {},
   "outputs": [
    {
     "data": {
      "text/plain": [
       "[331734,\n",
       " 340717,\n",
       " 335941,\n",
       " 326756,\n",
       " 596229,\n",
       " 550092,\n",
       " 495614,\n",
       " 426905,\n",
       " 397938,\n",
       " 596934,\n",
       " 564385,\n",
       " 422717,\n",
       " 638433,\n",
       " 348853,\n",
       " 617789,\n",
       " 599275,\n",
       " 519945,\n",
       " 510700,\n",
       " 441543,\n",
       " 318395,\n",
       " 432828,\n",
       " 450347,\n",
       " 305572,\n",
       " 379741,\n",
       " 336202,\n",
       " 595086,\n",
       " 363437,\n",
       " 401240,\n",
       " 387746,\n",
       " 626811,\n",
       " 650240,\n",
       " 407271,\n",
       " 474161,\n",
       " 544358,\n",
       " 424313,\n",
       " 394762,\n",
       " 339946,\n",
       " 610092,\n",
       " 333349,\n",
       " 363821,\n",
       " 601449]"
      ]
     },
     "execution_count": 12,
     "metadata": {},
     "output_type": "execute_result"
    }
   ],
   "source": [
    "reponse"
   ]
  },
  {
   "cell_type": "code",
   "execution_count": 15,
   "id": "784c44b0",
   "metadata": {},
   "outputs": [
    {
     "name": "stdout",
     "output_type": "stream",
     "text": [
      "331734\n",
      "340717\n",
      "335941\n",
      "326756\n",
      "397938\n",
      "348853\n",
      "266234\n",
      "318395\n",
      "305572\n",
      "379741\n",
      "291442\n",
      "336202\n",
      "256318\n",
      "261408\n",
      "262585\n",
      "363437\n",
      "387746\n",
      "259501\n",
      "394762\n",
      "339946\n",
      "333349\n",
      "363821\n"
     ]
    },
    {
     "data": {
      "text/plain": [
       "22"
      ]
     },
     "execution_count": 15,
     "metadata": {},
     "output_type": "execute_result"
    }
   ],
   "source": [
    "c3= []\n",
    "for c in prix_des_maisons:\n",
    "    if  c>=250000 and c <400000 :\n",
    "        print(c)\n",
    "        c3.append(c)\n",
    "len(c3)"
   ]
  },
  {
   "cell_type": "code",
   "execution_count": 19,
   "id": "4a2dfeaf",
   "metadata": {},
   "outputs": [
    {
     "data": {
      "text/plain": [
       "6"
      ]
     },
     "execution_count": 19,
     "metadata": {},
     "output_type": "execute_result"
    }
   ],
   "source": [
    "d4= []\n",
    "for d in prix_des_maisons:\n",
    "    if d>600000 :\n",
    "        d4.append(d)\n",
    "len(d4)"
   ]
  },
  {
   "cell_type": "code",
   "execution_count": 24,
   "id": "b07f9c34",
   "metadata": {},
   "outputs": [
    {
     "name": "stdout",
     "output_type": "stream",
     "text": [
      "[138033, 650240]\n"
     ]
    }
   ],
   "source": [
    "e5= []\n",
    "for e in prix_des_maisons:\n",
    "    if e<150000 or e>650000 :\n",
    "        e5.append(e)\n",
    "len(e5)\n",
    "print(e5)"
   ]
  },
  {
   "cell_type": "code",
   "execution_count": null,
   "id": "87d90c63",
   "metadata": {},
   "outputs": [],
   "source": []
  }
 ],
 "metadata": {
  "kernelspec": {
   "display_name": "Python 3 (ipykernel)",
   "language": "python",
   "name": "python3"
  },
  "language_info": {
   "codemirror_mode": {
    "name": "ipython",
    "version": 3
   },
   "file_extension": ".py",
   "mimetype": "text/x-python",
   "name": "python",
   "nbconvert_exporter": "python",
   "pygments_lexer": "ipython3",
   "version": "3.9.12"
  }
 },
 "nbformat": 4,
 "nbformat_minor": 5
}
