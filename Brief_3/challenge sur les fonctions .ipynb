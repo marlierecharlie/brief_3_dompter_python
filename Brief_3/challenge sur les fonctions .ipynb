{
 "cells": [
  {
   "cell_type": "code",
   "execution_count": 1,
   "id": "b916af5c",
   "metadata": {},
   "outputs": [],
   "source": [
    "liste=[100,1,60,54,20]"
   ]
  },
  {
   "cell_type": "code",
   "execution_count": 66,
   "id": "174d177d",
   "metadata": {},
   "outputs": [],
   "source": [
    "# fonction moyenne :\n",
    "def moy(l):\n",
    "    return (sum(l)/len(l))"
   ]
  },
  {
   "cell_type": "code",
   "execution_count": 67,
   "id": "3610258a",
   "metadata": {},
   "outputs": [
    {
     "data": {
      "text/plain": [
       "47.0"
      ]
     },
     "execution_count": 67,
     "metadata": {},
     "output_type": "execute_result"
    }
   ],
   "source": [
    "moy(liste)"
   ]
  },
  {
   "cell_type": "code",
   "execution_count": 88,
   "id": "ebfe39d8",
   "metadata": {},
   "outputs": [],
   "source": [
    "def var(l) :\n",
    "#     bien penser à mettre la liste vide dans la fonction mais pas dabs la boucle \n",
    "    a = []\n",
    "    for i in range(0,len(l)):\n",
    "        a.append(((l[i] - moy(l))**2))\n",
    "    var=  ((sum(a))/len(l))\n",
    "    return var"
   ]
  },
  {
   "cell_type": "code",
   "execution_count": 89,
   "id": "1e0005ca",
   "metadata": {},
   "outputs": [
    {
     "data": {
      "text/plain": [
       "1174.4"
      ]
     },
     "execution_count": 89,
     "metadata": {},
     "output_type": "execute_result"
    }
   ],
   "source": [
    "var(liste)"
   ]
  },
  {
   "cell_type": "code",
   "execution_count": 91,
   "id": "b73f8c13",
   "metadata": {},
   "outputs": [],
   "source": [
    "def eqt(l) :\n",
    "    return (var(l))**0.5"
   ]
  },
  {
   "cell_type": "code",
   "execution_count": 92,
   "id": "92a6b891",
   "metadata": {},
   "outputs": [
    {
     "data": {
      "text/plain": [
       "34.26951998496623"
      ]
     },
     "execution_count": 92,
     "metadata": {},
     "output_type": "execute_result"
    }
   ],
   "source": [
    "eqt(liste)"
   ]
  },
  {
   "cell_type": "code",
   "execution_count": 93,
   "id": "e0355c93",
   "metadata": {},
   "outputs": [],
   "source": [
    "def med(l) :\n",
    "    half = len(l) // 2\n",
    "    l.sort()\n",
    "#     sort permet d'ordonner une liste\n",
    "    if not len(l) % 2:\n",
    "        return (l[half - 1] + l[half]) / 2.0\n",
    "    return l[half]"
   ]
  },
  {
   "cell_type": "code",
   "execution_count": 94,
   "id": "4af91156",
   "metadata": {},
   "outputs": [
    {
     "data": {
      "text/plain": [
       "54"
      ]
     },
     "execution_count": 94,
     "metadata": {},
     "output_type": "execute_result"
    }
   ],
   "source": [
    "med(liste)"
   ]
  },
  {
   "cell_type": "code",
   "execution_count": null,
   "id": "ba7d797b",
   "metadata": {},
   "outputs": [],
   "source": []
  }
 ],
 "metadata": {
  "kernelspec": {
   "display_name": "Python 3 (ipykernel)",
   "language": "python",
   "name": "python3"
  },
  "language_info": {
   "codemirror_mode": {
    "name": "ipython",
    "version": 3
   },
   "file_extension": ".py",
   "mimetype": "text/x-python",
   "name": "python",
   "nbconvert_exporter": "python",
   "pygments_lexer": "ipython3",
   "version": "3.9.12"
  }
 },
 "nbformat": 4,
 "nbformat_minor": 5
}
