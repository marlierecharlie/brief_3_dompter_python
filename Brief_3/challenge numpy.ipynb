{
 "cells": [
  {
   "cell_type": "code",
   "execution_count": 73,
   "id": "506c4fd1",
   "metadata": {},
   "outputs": [
    {
     "data": {
      "text/html": [
       "<div>\n",
       "<style scoped>\n",
       "    .dataframe tbody tr th:only-of-type {\n",
       "        vertical-align: middle;\n",
       "    }\n",
       "\n",
       "    .dataframe tbody tr th {\n",
       "        vertical-align: top;\n",
       "    }\n",
       "\n",
       "    .dataframe thead th {\n",
       "        text-align: right;\n",
       "    }\n",
       "</style>\n",
       "<table border=\"1\" class=\"dataframe\">\n",
       "  <thead>\n",
       "    <tr style=\"text-align: right;\">\n",
       "      <th></th>\n",
       "      <th>city</th>\n",
       "      <th>year</th>\n",
       "      <th>time</th>\n",
       "      <th>sec</th>\n",
       "    </tr>\n",
       "  </thead>\n",
       "  <tbody>\n",
       "    <tr>\n",
       "      <th>0</th>\n",
       "      <td>PARIS</td>\n",
       "      <td>2011</td>\n",
       "      <td>02:06:29</td>\n",
       "      <td>7589</td>\n",
       "    </tr>\n",
       "    <tr>\n",
       "      <th>1</th>\n",
       "      <td>PARIS</td>\n",
       "      <td>2010</td>\n",
       "      <td>02:06:41</td>\n",
       "      <td>7601</td>\n",
       "    </tr>\n",
       "    <tr>\n",
       "      <th>2</th>\n",
       "      <td>PARIS</td>\n",
       "      <td>2009</td>\n",
       "      <td>02:05:47</td>\n",
       "      <td>7547</td>\n",
       "    </tr>\n",
       "    <tr>\n",
       "      <th>3</th>\n",
       "      <td>PARIS</td>\n",
       "      <td>2008</td>\n",
       "      <td>02:06:40</td>\n",
       "      <td>7600</td>\n",
       "    </tr>\n",
       "    <tr>\n",
       "      <th>4</th>\n",
       "      <td>PARIS</td>\n",
       "      <td>2007</td>\n",
       "      <td>02:07:17</td>\n",
       "      <td>7637</td>\n",
       "    </tr>\n",
       "    <tr>\n",
       "      <th>...</th>\n",
       "      <td>...</td>\n",
       "      <td>...</td>\n",
       "      <td>...</td>\n",
       "      <td>...</td>\n",
       "    </tr>\n",
       "    <tr>\n",
       "      <th>354</th>\n",
       "      <td>CHICAGO</td>\n",
       "      <td>2006</td>\n",
       "      <td>02:07:35</td>\n",
       "      <td>7655</td>\n",
       "    </tr>\n",
       "    <tr>\n",
       "      <th>355</th>\n",
       "      <td>CHICAGO</td>\n",
       "      <td>2007</td>\n",
       "      <td>02:11:11</td>\n",
       "      <td>7871</td>\n",
       "    </tr>\n",
       "    <tr>\n",
       "      <th>356</th>\n",
       "      <td>CHICAGO</td>\n",
       "      <td>2008</td>\n",
       "      <td>02:06:25</td>\n",
       "      <td>7585</td>\n",
       "    </tr>\n",
       "    <tr>\n",
       "      <th>357</th>\n",
       "      <td>CHICAGO</td>\n",
       "      <td>2009</td>\n",
       "      <td>02:05:41</td>\n",
       "      <td>7541</td>\n",
       "    </tr>\n",
       "    <tr>\n",
       "      <th>358</th>\n",
       "      <td>CHICAGO</td>\n",
       "      <td>2010</td>\n",
       "      <td>02:06:23</td>\n",
       "      <td>7583</td>\n",
       "    </tr>\n",
       "  </tbody>\n",
       "</table>\n",
       "<p>359 rows × 4 columns</p>\n",
       "</div>"
      ],
      "text/plain": [
       "        city  year      time   sec\n",
       "0      PARIS  2011  02:06:29  7589\n",
       "1      PARIS  2010  02:06:41  7601\n",
       "2      PARIS  2009  02:05:47  7547\n",
       "3      PARIS  2008  02:06:40  7600\n",
       "4      PARIS  2007  02:07:17  7637\n",
       "..       ...   ...       ...   ...\n",
       "354  CHICAGO  2006  02:07:35  7655\n",
       "355  CHICAGO  2007  02:11:11  7871\n",
       "356  CHICAGO  2008  02:06:25  7585\n",
       "357  CHICAGO  2009  02:05:41  7541\n",
       "358  CHICAGO  2010  02:06:23  7583\n",
       "\n",
       "[359 rows x 4 columns]"
      ]
     },
     "execution_count": 73,
     "metadata": {},
     "output_type": "execute_result"
    }
   ],
   "source": [
    "import numpy as np\n",
    "import pandas as pd\n",
    "\n",
    "df_marathon = pd.read_table(\"marathon.txt\", header = None, names=['city', 'year', 'time', 'sec'])\n",
    "\n",
    "df_marathon"
   ]
  },
  {
   "cell_type": "code",
   "execution_count": 74,
   "id": "862f853b",
   "metadata": {},
   "outputs": [
    {
     "data": {
      "text/html": [
       "<div>\n",
       "<style scoped>\n",
       "    .dataframe tbody tr th:only-of-type {\n",
       "        vertical-align: middle;\n",
       "    }\n",
       "\n",
       "    .dataframe tbody tr th {\n",
       "        vertical-align: top;\n",
       "    }\n",
       "\n",
       "    .dataframe thead th {\n",
       "        text-align: right;\n",
       "    }\n",
       "</style>\n",
       "<table border=\"1\" class=\"dataframe\">\n",
       "  <thead>\n",
       "    <tr style=\"text-align: right;\">\n",
       "      <th></th>\n",
       "      <th>city</th>\n",
       "      <th>year</th>\n",
       "      <th>time</th>\n",
       "      <th>sec</th>\n",
       "      <th>est_paris</th>\n",
       "      <th>est_berlin</th>\n",
       "    </tr>\n",
       "  </thead>\n",
       "  <tbody>\n",
       "    <tr>\n",
       "      <th>0</th>\n",
       "      <td>PARIS</td>\n",
       "      <td>2011</td>\n",
       "      <td>02:06:29</td>\n",
       "      <td>7589</td>\n",
       "      <td>1</td>\n",
       "      <td>0</td>\n",
       "    </tr>\n",
       "    <tr>\n",
       "      <th>1</th>\n",
       "      <td>PARIS</td>\n",
       "      <td>2010</td>\n",
       "      <td>02:06:41</td>\n",
       "      <td>7601</td>\n",
       "      <td>1</td>\n",
       "      <td>0</td>\n",
       "    </tr>\n",
       "    <tr>\n",
       "      <th>2</th>\n",
       "      <td>PARIS</td>\n",
       "      <td>2009</td>\n",
       "      <td>02:05:47</td>\n",
       "      <td>7547</td>\n",
       "      <td>1</td>\n",
       "      <td>0</td>\n",
       "    </tr>\n",
       "  </tbody>\n",
       "</table>\n",
       "</div>"
      ],
      "text/plain": [
       "    city  year      time   sec  est_paris  est_berlin\n",
       "0  PARIS  2011  02:06:29  7589          1           0\n",
       "1  PARIS  2010  02:06:41  7601          1           0\n",
       "2  PARIS  2009  02:05:47  7547          1           0"
      ]
     },
     "execution_count": 74,
     "metadata": {},
     "output_type": "execute_result"
    }
   ],
   "source": [
    "# Je crée une colone avec la valeur 1 en ligne quand la ville lui correspond\n",
    "\n",
    "df_marathon['est_paris'] = df_marathon['city'] =='PARIS'\n",
    "df_marathon['est_paris'] = df_marathon['est_paris'].replace(True, 1).replace(False, 0)\n",
    "\n",
    "df_marathon['est_berlin'] = df_marathon['city'] =='BERLIN'\n",
    "df_marathon['est_berlin'] = df_marathon['est_berlin'].replace(True, 1).replace(False, 0)\n",
    "\n",
    "\n",
    "df_marathon.head( n = 3)\n",
    "\n",
    "\n",
    "\n",
    "\n"
   ]
  },
  {
   "cell_type": "code",
   "execution_count": 77,
   "id": "f08dab27",
   "metadata": {},
   "outputs": [],
   "source": [
    "# je crée une matrice X de taille (3, 359)  et une matrice colonne Y de taille (1, 359)\n",
    "X = np.matrix(df_marathon[[\"year\", \"est_paris\", \"est_berlin\"]])\n",
    "Y = np.matrix(df_marathon[[\"sec\"]])\n"
   ]
  },
  {
   "cell_type": "code",
   "execution_count": 78,
   "id": "5473c0da",
   "metadata": {},
   "outputs": [
    {
     "data": {
      "text/plain": [
       "matrix([[  3.98807104],\n",
       "        [-13.47591572],\n",
       "        [-23.91576442]])"
      ]
     },
     "execution_count": 78,
     "metadata": {},
     "output_type": "execute_result"
    }
   ],
   "source": [
    "#J'applique le calcul pour créer ma matrice A, \n",
    "# .T permet de transposer et .I permet d'avoir l'inverse de la matrice\n",
    "\n",
    "A = (X.T * X).I * X.T * Y\n",
    "\n",
    "A"
   ]
  },
  {
   "cell_type": "code",
   "execution_count": 80,
   "id": "4eae9721",
   "metadata": {},
   "outputs": [
    {
     "data": {
      "text/plain": [
       "(3.98807104335788, -13.475915722748393, -23.915764416891946)"
      ]
     },
     "execution_count": 80,
     "metadata": {},
     "output_type": "execute_result"
    }
   ],
   "source": [
    "# J'affiche les coefficient correspondant à chaque permier élément des lignes de ma nouvelle matrice\n",
    "(A[0,0], A[1,0], A[2,0] )"
   ]
  },
  {
   "cell_type": "code",
   "execution_count": null,
   "id": "dec8ff7a",
   "metadata": {},
   "outputs": [],
   "source": []
  }
 ],
 "metadata": {
  "kernelspec": {
   "display_name": "Python 3 (ipykernel)",
   "language": "python",
   "name": "python3"
  },
  "language_info": {
   "codemirror_mode": {
    "name": "ipython",
    "version": 3
   },
   "file_extension": ".py",
   "mimetype": "text/x-python",
   "name": "python",
   "nbconvert_exporter": "python",
   "pygments_lexer": "ipython3",
   "version": "3.9.12"
  }
 },
 "nbformat": 4,
 "nbformat_minor": 5
}
