{
 "cells": [
  {
   "cell_type": "code",
   "execution_count": 2,
   "id": "28a550b6",
   "metadata": {},
   "outputs": [
    {
     "data": {
      "text/plain": [
       "{'Marie': 15,\n",
       " 'Samuel': 17,\n",
       " 'Gaston': 12,\n",
       " 'Fred': 10,\n",
       " 'Mae': 5,\n",
       " 'Julie': 15,\n",
       " 'Zoe': 7,\n",
       " 'Claire': 20,\n",
       " 'Chloe': 8,\n",
       " 'Julien': 14,\n",
       " 'Gael': 9,\n",
       " 'Samia': 15,\n",
       " 'Omar': 11,\n",
       " 'Gabriel': 16,\n",
       " 'Manon': 2}"
      ]
     },
     "execution_count": 2,
     "metadata": {},
     "output_type": "execute_result"
    }
   ],
   "source": [
    "# 1 -  Créer un dictionnaire nommé ventes_commerciaux contenant les ventes suivantes :\n",
    "# Marie:15; Samuel:17;  Gaston:12;  Fred:10; Mae:5;  Julie:15; Zoe:7; Claire:20; Chloe:8; \n",
    "# Julien:14;Gael:9; Samia:15; Omar:11; Gabriel:16; Manon: 2\n",
    "ventes_commerciaux = {'Marie':15 , 'Samuel':17 , 'Gaston':12 , 'Fred':10 , 'Mae':5 , 'Julie':15 ,\n",
    "                      'Zoe':7 , 'Claire':20 , 'Chloe':8 , 'Julien':14  ,'Gael':9 , 'Samia':15 , \n",
    "                      'Omar':11 , 'Gabriel':16 , 'Manon':2}\n",
    "ventes_commerciaux"
   ]
  },
  {
   "cell_type": "code",
   "execution_count": 3,
   "id": "8ad6700e",
   "metadata": {},
   "outputs": [
    {
     "data": {
      "text/plain": [
       "11.733333333333333"
      ]
     },
     "execution_count": 3,
     "metadata": {},
     "output_type": "execute_result"
    }
   ],
   "source": [
    "# 2 – Quelle est la moyenne des ventes ? \n",
    "# Astuce : utiliser la fonction ( méthode )  values () d’un dictionnaire qui retourne les valeurs stockées dans \n",
    "# le dictionnaire \n",
    "\n",
    "def moy(l):\n",
    "    return (sum(l)/len(l))\n",
    "\n",
    "moy(ventes_commerciaux.values())\n",
    "\n",
    "# la moyenne des ventes est 11.73"
   ]
  },
  {
   "cell_type": "code",
   "execution_count": 4,
   "id": "9622e51d",
   "metadata": {},
   "outputs": [
    {
     "name": "stdout",
     "output_type": "stream",
     "text": [
      "15\n"
     ]
    }
   ],
   "source": [
    "# 3 – Afficher le nombre total de vendeurs\n",
    "print(len(ventes_commerciaux.keys()))"
   ]
  },
  {
   "cell_type": "code",
   "execution_count": 5,
   "id": "3d5af816",
   "metadata": {},
   "outputs": [
    {
     "data": {
      "text/plain": [
       "8"
      ]
     },
     "execution_count": 5,
     "metadata": {},
     "output_type": "execute_result"
    }
   ],
   "source": [
    "# 4 – Combien de commerciaux ont un nombre de ventes strictement supérieur à la moyenne ? Astuce: utiliser la fonction \n",
    "# ( méthode)  items() d’ un dictionnaire pour récupérer les clés et les valeurs en même temps\n",
    "\n",
    "a=0\n",
    "for c in ventes_commerciaux:\n",
    "    \n",
    "    if ventes_commerciaux[c] > 11.73 :\n",
    "        a+= 1\n",
    "        \n",
    "a\n",
    "\n",
    "# il y a 8 commerciaux qui ont un nombre de \n",
    "# ventes strictement supérieur à la moyenne "
   ]
  },
  {
   "cell_type": "code",
   "execution_count": 6,
   "id": "3eb5936d",
   "metadata": {},
   "outputs": [],
   "source": [
    "# 5 – Quel est le prénom du meilleur vendeur ?  \n",
    "# Astuce: utiliser la fonction ( méthode )  keys() d’ un dictionnaire pour récupérer les clés d’un dictionnaire "
   ]
  },
  {
   "cell_type": "code",
   "execution_count": 7,
   "id": "9dd3c80b",
   "metadata": {},
   "outputs": [
    {
     "name": "stdout",
     "output_type": "stream",
     "text": [
      "Claire\n"
     ]
    }
   ],
   "source": [
    "a = max(ventes_commerciaux.values())\n",
    "\n",
    "for i in ventes_commerciaux:\n",
    "    if ventes_commerciaux[i] == a:\n",
    "        print(i)"
   ]
  },
  {
   "cell_type": "code",
   "execution_count": 8,
   "id": "a0f657ba",
   "metadata": {},
   "outputs": [
    {
     "data": {
      "text/plain": [
       "['Mae', 'Zoe']"
      ]
     },
     "execution_count": 8,
     "metadata": {},
     "output_type": "execute_result"
    }
   ],
   "source": [
    "# 6 – Combien de vendeurs ont un prénom avec strictement moins de 4 lettres?\n",
    "a=[]\n",
    "for i in ventes_commerciaux: \n",
    "    if len(i) < 4:\n",
    "        a.append(i)\n",
    "        \n",
    "a\n",
    "# len(a)"
   ]
  },
  {
   "cell_type": "code",
   "execution_count": 9,
   "id": "f90fc3f1",
   "metadata": {},
   "outputs": [
    {
     "data": {
      "text/plain": [
       "['Gaston', 'Fred', 'Claire', 'Chloe', 'Julien', 'Gabriel', 'Manon']"
      ]
     },
     "execution_count": 9,
     "metadata": {},
     "output_type": "execute_result"
    }
   ],
   "source": [
    "# 7 – Afficher le prénom des vendeurs qui ont un nombre de ventes pair  ( multiple de 2 )\n",
    "h=[]\n",
    "\n",
    "for i, b in ventes_commerciaux.items(): \n",
    "    if b%2==0:\n",
    "        h.append(i)\n",
    "h\n",
    "    "
   ]
  },
  {
   "cell_type": "code",
   "execution_count": null,
   "id": "73d31fc2",
   "metadata": {},
   "outputs": [],
   "source": []
  }
 ],
 "metadata": {
  "kernelspec": {
   "display_name": "Python 3 (ipykernel)",
   "language": "python",
   "name": "python3"
  },
  "language_info": {
   "codemirror_mode": {
    "name": "ipython",
    "version": 3
   },
   "file_extension": ".py",
   "mimetype": "text/x-python",
   "name": "python",
   "nbconvert_exporter": "python",
   "pygments_lexer": "ipython3",
   "version": "3.9.12"
  }
 },
 "nbformat": 4,
 "nbformat_minor": 5
}
